{
 "cells": [
  {
   "cell_type": "code",
   "execution_count": 12,
   "metadata": {},
   "outputs": [],
   "source": [
    "from typing import Tuple, Dict, Callable, Iterator, Union, Optional, List\n",
    "import os\n",
    "import sys\n",
    "import yaml \n",
    "\n",
    "import copy\n",
    "\n",
    "import numpy as np\n",
    "import torch\n",
    "from torch import Tensor\n",
    "\n",
    "# To import module code.\n",
    "module_path = os.path.abspath(os.path.join('..'))\n",
    "if module_path not in sys.path:\n",
    "    sys.path.append(module_path)\n",
    "\n",
    "from src.evaluate import (\n",
    "    sort_rewards_global_optimization, \n",
    "    postprocessing_interpolation_rewards, \n",
    "    f_max_new\n",
    ")\n",
    "\n",
    "import matplotlib.pyplot as plt\n",
    "import matplotlib.ticker as ticker"
   ]
  },
  {
   "cell_type": "code",
   "execution_count": 34,
   "metadata": {},
   "outputs": [],
   "source": [
    "def postprocess_data(configs: List[str], \n",
    "                    experiment_path: int,\n",
    "                    sort_rewards: bool = True,\n",
    "                    interpolate: bool = True, \n",
    "                    max_new: bool = True,\n",
    "                    ):\n",
    "\n",
    "    method_to_name = {'gibo': 'GIBO', 'rs': 'ARS', 'vbo': 'Vanilla BO', 'cmaes': 'CMA-ES', 'mpd': \"MPD\"}\n",
    "    list_interpolated_rewards = []\n",
    "    list_names_optimizer = []\n",
    "    \n",
    "    for cfg_str in configs:\n",
    "\n",
    "        with open(cfg_str, 'r') as f:\n",
    "            cfg = yaml.load(f, Loader=yaml.Loader)\n",
    "\n",
    "        directory = '.'+ cfg['out_dir']\n",
    "        \n",
    "        if interpolate:\n",
    "\n",
    "            print('Postprocess tracked parameters over optimization procedure.')\n",
    "\n",
    "            # Load data.\n",
    "            print(f'Load data from {directory}.')\n",
    "            \n",
    "            parameters = np.load(\n",
    "                os.path.join(directory, 'parameters.npy'), allow_pickle=True\n",
    "            ).item()\n",
    "            rewards = np.load(\n",
    "                os.path.join(directory, 'rewards.npy'), allow_pickle=True\n",
    "            ).item()\n",
    "            calls = np.load(\n",
    "                os.path.join(directory, 'calls.npy'), allow_pickle=True\n",
    "            ).item()\n",
    "            \n",
    "            if sort_rewards:\n",
    "                rewards = sort_rewards_global_optimization(rewards)\n",
    "\n",
    "            # Postprocess data (offline evaluation and interpolation).\n",
    "            print('Postprocess data: interpolate.')\n",
    "            interpolated_rewards = postprocessing_interpolation_rewards(\n",
    "                rewards, calls, calls_of_objective=cfg['max_objective_calls']\n",
    "            )\n",
    "\n",
    "            # Save postprocessed data.\n",
    "            print(f'Save postprocessed data in {directory}.')\n",
    "            torch.save(\n",
    "                interpolated_rewards, os.path.join(directory, 'interpolated_rewards.pt')\n",
    "            )\n",
    "\n",
    "        else:\n",
    "            interpolated_rewards = torch.load(\n",
    "                os.path.join(directory, 'interpolated_rewards.pt')\n",
    "            )\n",
    "            \n",
    "        list_names_optimizer.append(method_to_name[cfg['method']])\n",
    "        list_interpolated_rewards.append(interpolated_rewards)\n",
    "    \n",
    "    f_max_dict = torch.load(experiment_path + '/f_max.pt')\n",
    "    if max_new:\n",
    "        f_max_dict_new = f_max_new(f_max_dict, list_interpolated_rewards)\n",
    "        \n",
    "    return list_names_optimizer, list_interpolated_rewards, f_max_dict_new"
   ]
  },
  {
   "cell_type": "code",
   "execution_count": 48,
   "metadata": {},
   "outputs": [
    {
     "name": "stdout",
     "output_type": "stream",
     "text": [
      "Postprocess tracked parameters over optimization procedure.\n",
      "Load data from ../experiments/synthetic_experiments/test_experiment/mpd/.\n",
      "Postprocess data: interpolate.\n",
      "Save postprocessed data in ../experiments/synthetic_experiments/test_experiment/mpd/.\n",
      "Postprocess tracked parameters over optimization procedure.\n",
      "Load data from ../experiments/synthetic_experiments/test_experiment/gibo/.\n",
      "Postprocess data: interpolate.\n",
      "Save postprocessed data in ../experiments/synthetic_experiments/test_experiment/gibo/.\n",
      "Postprocess tracked parameters over optimization procedure.\n",
      "Load data from ../experiments/synthetic_experiments/test_experiment/vbo/.\n",
      "Postprocess data: interpolate.\n",
      "Save postprocessed data in ../experiments/synthetic_experiments/test_experiment/vbo/.\n",
      "Postprocess tracked parameters over optimization procedure.\n",
      "Load data from ../experiments/synthetic_experiments/test_experiment/rs/.\n",
      "Postprocess data: interpolate.\n",
      "Save postprocessed data in ../experiments/synthetic_experiments/test_experiment/rs/.\n"
     ]
    }
   ],
   "source": [
    "(list_names_optimizer, \n",
    " list_interpolated_rewards, \n",
    " f_max_dict_new) = postprocess_data(configs=['../configs/synthetic_experiment/mpd_default.yaml',\n",
    "                                             '../configs/synthetic_experiment/gibo_default.yaml',\n",
    "                                             '../configs/synthetic_experiment/vbo_default.yaml',\n",
    "                                             '../configs/synthetic_experiment/rs_default.yaml',\n",
    "                                             ],\n",
    "                                    experiment_path='../experiments/synthetic_experiments/test_experiment/',\n",
    "                                    sort_rewards=True,\n",
    "                                    interpolate=True)"
   ]
  },
  {
   "cell_type": "code",
   "execution_count": 51,
   "metadata": {},
   "outputs": [
    {
     "ename": "FileNotFoundError",
     "evalue": "[Errno 2] No such file or directory: '../configs/synthetic_experiment/110620/rs_optimize.yaml'",
     "output_type": "error",
     "traceback": [
      "\u001b[0;31m---------------------------------------------------------------------------\u001b[0m",
      "\u001b[0;31mFileNotFoundError\u001b[0m                         Traceback (most recent call last)",
      "Cell \u001b[0;32mIn[51], line 3\u001b[0m\n\u001b[1;32m      1\u001b[0m (list_names_optimizer_optim, \n\u001b[1;32m      2\u001b[0m  list_interpolated_rewards_optim, \n\u001b[0;32m----> 3\u001b[0m  f_max_dict_new_optim) \u001b[38;5;241m=\u001b[39m \u001b[43mpostprocess_data\u001b[49m\u001b[43m(\u001b[49m\u001b[43mconfigs\u001b[49m\u001b[38;5;241;43m=\u001b[39;49m\u001b[43m[\u001b[49m\u001b[38;5;124;43m'\u001b[39;49m\u001b[38;5;124;43m../configs/synthetic_experiment/110620/rs_optimize.yaml\u001b[39;49m\u001b[38;5;124;43m'\u001b[39;49m\u001b[43m,\u001b[49m\u001b[43m \u001b[49m\n\u001b[1;32m      4\u001b[0m \u001b[43m                                                   \u001b[49m\u001b[38;5;124;43m'\u001b[39;49m\u001b[38;5;124;43m../configs/synthetic_experiment/110620/vbo_optimize.yaml\u001b[39;49m\u001b[38;5;124;43m'\u001b[39;49m\u001b[43m,\u001b[49m\n\u001b[1;32m      5\u001b[0m \u001b[43m                                                   \u001b[49m\u001b[38;5;124;43m'\u001b[39;49m\u001b[38;5;124;43m../configs/synthetic_experiment/110620/cmaes_optimize.yaml\u001b[39;49m\u001b[38;5;124;43m'\u001b[39;49m\u001b[43m,\u001b[49m\n\u001b[1;32m      6\u001b[0m \u001b[43m                                                   \u001b[49m\u001b[38;5;124;43m'\u001b[39;49m\u001b[38;5;124;43m../configs/synthetic_experiment/100621/gibo_optimize.yaml\u001b[39;49m\u001b[38;5;124;43m'\u001b[39;49m\u001b[43m]\u001b[49m\u001b[43m,\u001b[49m\n\u001b[1;32m      7\u001b[0m \u001b[43m                                          \u001b[49m\u001b[43mexperiment_path\u001b[49m\u001b[38;5;241;43m=\u001b[39;49m\u001b[38;5;124;43m'\u001b[39;49m\u001b[38;5;124;43m../experiments/synthetic_experiments/110620/\u001b[39;49m\u001b[38;5;124;43m'\u001b[39;49m\u001b[43m,\u001b[49m\n\u001b[1;32m      8\u001b[0m \u001b[43m                                          \u001b[49m\u001b[43msort_rewards\u001b[49m\u001b[38;5;241;43m=\u001b[39;49m\u001b[38;5;28;43;01mTrue\u001b[39;49;00m\u001b[43m,\u001b[49m\n\u001b[1;32m      9\u001b[0m \u001b[43m                                          \u001b[49m\u001b[43minterpolate\u001b[49m\u001b[38;5;241;43m=\u001b[39;49m\u001b[38;5;28;43;01mFalse\u001b[39;49;00m\u001b[43m)\u001b[49m\n",
      "Cell \u001b[0;32mIn[34], line 14\u001b[0m, in \u001b[0;36mpostprocess_data\u001b[0;34m(configs, experiment_path, sort_rewards, interpolate, max_new)\u001b[0m\n\u001b[1;32m     10\u001b[0m list_names_optimizer \u001b[38;5;241m=\u001b[39m []\n\u001b[1;32m     12\u001b[0m \u001b[38;5;28;01mfor\u001b[39;00m cfg_str \u001b[38;5;129;01min\u001b[39;00m configs:\n\u001b[0;32m---> 14\u001b[0m     \u001b[38;5;28;01mwith\u001b[39;00m \u001b[38;5;28;43mopen\u001b[39;49m\u001b[43m(\u001b[49m\u001b[43mcfg_str\u001b[49m\u001b[43m,\u001b[49m\u001b[43m \u001b[49m\u001b[38;5;124;43m'\u001b[39;49m\u001b[38;5;124;43mr\u001b[39;49m\u001b[38;5;124;43m'\u001b[39;49m\u001b[43m)\u001b[49m \u001b[38;5;28;01mas\u001b[39;00m f:\n\u001b[1;32m     15\u001b[0m         cfg \u001b[38;5;241m=\u001b[39m yaml\u001b[38;5;241m.\u001b[39mload(f, Loader\u001b[38;5;241m=\u001b[39myaml\u001b[38;5;241m.\u001b[39mLoader)\n\u001b[1;32m     17\u001b[0m     directory \u001b[38;5;241m=\u001b[39m \u001b[38;5;124m'\u001b[39m\u001b[38;5;124m.\u001b[39m\u001b[38;5;124m'\u001b[39m\u001b[38;5;241m+\u001b[39m cfg[\u001b[38;5;124m'\u001b[39m\u001b[38;5;124mout_dir\u001b[39m\u001b[38;5;124m'\u001b[39m]\n",
      "File \u001b[0;32m~/miniconda3/envs/mpd-fresh/lib/python3.8/site-packages/IPython/core/interactiveshell.py:284\u001b[0m, in \u001b[0;36m_modified_open\u001b[0;34m(file, *args, **kwargs)\u001b[0m\n\u001b[1;32m    277\u001b[0m \u001b[38;5;28;01mif\u001b[39;00m file \u001b[38;5;129;01min\u001b[39;00m {\u001b[38;5;241m0\u001b[39m, \u001b[38;5;241m1\u001b[39m, \u001b[38;5;241m2\u001b[39m}:\n\u001b[1;32m    278\u001b[0m     \u001b[38;5;28;01mraise\u001b[39;00m \u001b[38;5;167;01mValueError\u001b[39;00m(\n\u001b[1;32m    279\u001b[0m         \u001b[38;5;124mf\u001b[39m\u001b[38;5;124m\"\u001b[39m\u001b[38;5;124mIPython won\u001b[39m\u001b[38;5;124m'\u001b[39m\u001b[38;5;124mt let you open fd=\u001b[39m\u001b[38;5;132;01m{\u001b[39;00mfile\u001b[38;5;132;01m}\u001b[39;00m\u001b[38;5;124m by default \u001b[39m\u001b[38;5;124m\"\u001b[39m\n\u001b[1;32m    280\u001b[0m         \u001b[38;5;124m\"\u001b[39m\u001b[38;5;124mas it is likely to crash IPython. If you know what you are doing, \u001b[39m\u001b[38;5;124m\"\u001b[39m\n\u001b[1;32m    281\u001b[0m         \u001b[38;5;124m\"\u001b[39m\u001b[38;5;124myou can use builtins\u001b[39m\u001b[38;5;124m'\u001b[39m\u001b[38;5;124m open.\u001b[39m\u001b[38;5;124m\"\u001b[39m\n\u001b[1;32m    282\u001b[0m     )\n\u001b[0;32m--> 284\u001b[0m \u001b[38;5;28;01mreturn\u001b[39;00m \u001b[43mio_open\u001b[49m\u001b[43m(\u001b[49m\u001b[43mfile\u001b[49m\u001b[43m,\u001b[49m\u001b[43m \u001b[49m\u001b[38;5;241;43m*\u001b[39;49m\u001b[43margs\u001b[49m\u001b[43m,\u001b[49m\u001b[43m \u001b[49m\u001b[38;5;241;43m*\u001b[39;49m\u001b[38;5;241;43m*\u001b[39;49m\u001b[43mkwargs\u001b[49m\u001b[43m)\u001b[49m\n",
      "\u001b[0;31mFileNotFoundError\u001b[0m: [Errno 2] No such file or directory: '../configs/synthetic_experiment/110620/rs_optimize.yaml'"
     ]
    }
   ],
   "source": [
    "(list_names_optimizer_optim, \n",
    " list_interpolated_rewards_optim, \n",
    " f_max_dict_new_optim) = postprocess_data(configs=['../configs/synthetic_experiment/110620/rs_optimize.yaml', \n",
    "                                                   '../configs/synthetic_experiment/110620/vbo_optimize.yaml',\n",
    "                                                   '../configs/synthetic_experiment/110620/cmaes_optimize.yaml',\n",
    "                                                   '../configs/synthetic_experiment/100621/gibo_optimize.yaml'],\n",
    "                                          experiment_path='../experiments/synthetic_experiments/110620/',\n",
    "                                          sort_rewards=True,\n",
    "                                          interpolate=False)"
   ]
  },
  {
   "cell_type": "code",
   "execution_count": 52,
   "metadata": {},
   "outputs": [
    {
     "data": {
      "text/plain": [
       "['MPD', 'GIBO', 'Vanilla BO', 'ARS']"
      ]
     },
     "execution_count": 52,
     "metadata": {},
     "output_type": "execute_result"
    }
   ],
   "source": [
    "list_names_optimizer"
   ]
  },
  {
   "cell_type": "code",
   "execution_count": 41,
   "metadata": {},
   "outputs": [
    {
     "data": {
      "text/plain": [
       "{3: [0.5128932595252991, 0.10070274770259857],\n",
       " 6: [2.128073215484619, 0.27351894974708557],\n",
       " 8: [1.8653299808502197, 1.4992103576660156]}"
      ]
     },
     "execution_count": 41,
     "metadata": {},
     "output_type": "execute_result"
    }
   ],
   "source": [
    "f_max_dict_new"
   ]
  },
  {
   "cell_type": "code",
   "execution_count": 43,
   "metadata": {},
   "outputs": [],
   "source": [
    "def plot_function_value_distances(\n",
    "    f_max: Dict,\n",
    "    rewards_optimizers: List[Tensor],\n",
    "    names_optimizers: List[str],\n",
    "    figsize: Tuple[Union[int, float]],\n",
    "    row_col: Tuple[int] = (2, 4),\n",
    "    path_savefig: Optional[str] = None,\n",
    "    remove_dim_index: Optional[List[int]] = None,\n",
    "    show_std: bool = False,\n",
    "):\n",
    "    markers = [\"D\", \"o\", \"s\", \">\"]\n",
    "    dimensions = list(f_max.keys())\n",
    "    dim_indices = torch.arange(0, len(dimensions))\n",
    "    \n",
    "    if remove_dim_index is not None:\n",
    "        for rd in remove_dim_index:\n",
    "            dimensions.pop(rd)\n",
    "            dim_indices = dim_indices[dim_indices!=rd]\n",
    "        \n",
    "    num_objective_calls = rewards_optimizers[0].shape[-1]\n",
    "    num_optimizers = len(rewards_optimizers)\n",
    "    n_rows, n_cols = row_col\n",
    "    fig, axs = plt.subplots(n_rows, n_cols, sharex=True, sharey=True, figsize=figsize)\n",
    "    fig.subplots_adjust(hspace=0.3)\n",
    "    axs = np.array(axs).reshape(-1)\n",
    "    \n",
    "    for index_dim, dim in enumerate(dimensions):\n",
    "        f_max_dim = f_max[dimensions[index_dim]]\n",
    "        f_max_reshaped = torch.reshape(torch.tensor(f_max_dim), (-1, 1))\n",
    "        if not show_std:\n",
    "            axs[index_dim].set_yscale(\"log\")\n",
    "        if index_dim > n_cols * (n_rows - 1) - 1:\n",
    "            axs[index_dim].set_xlabel(\"\\# of evaluations\", labelpad=10)\n",
    "        if index_dim in [row * n_cols for row in range(n_rows)]:\n",
    "            axs[index_dim].set_ylabel(r\"$\\frac{f^* - \\widehat{f^*}}{f^*}$\")\n",
    "        axs[index_dim].set_title(f\"{dim}-dim. domain\", fontsize=10)\n",
    "        axs[index_dim].set_xlim([0, num_objective_calls])\n",
    "        # axs[index_dim].set_xticks([0, 100, 200, 300])\n",
    "        \n",
    "        \n",
    "        for index_optimizer, rewards in enumerate(rewards_optimizers):\n",
    "            value_error = f_max_reshaped - rewards[dim_indices, :, :][index_dim]\n",
    "            value_error_normalized = value_error / f_max_reshaped\n",
    "            mean = torch.mean(value_error_normalized, dim=0)\n",
    "            std = torch.std(value_error_normalized, dim=0)\n",
    "            axs[index_dim].plot(\n",
    "                torch.linspace(0, num_objective_calls, num_objective_calls),\n",
    "                mean,\n",
    "                label=names_optimizers[index_optimizer],\n",
    "                marker=markers[index_optimizer],\n",
    "                linestyle=\"-\",\n",
    "                linewidth=1.,\n",
    "                markersize=3,\n",
    "                markeredgewidth=0.6,\n",
    "                markevery=25,\n",
    "                fillstyle=\"none\",\n",
    "            )\n",
    "            if show_std:\n",
    "                #relative_error = 0.434 * std / mean\n",
    "                axs[index_dim].fill_between(\n",
    "                    torch.linspace(0, num_objective_calls, num_objective_calls),\n",
    "                    mean - std,\n",
    "                    mean + std,\n",
    "                    alpha=0.2,\n",
    "                )\n",
    "            axs[index_dim].yaxis.grid(True, which=\"minor\", linewidth=.4)\n",
    "    handles, labels = axs[index_dim].get_legend_handles_labels()\n",
    "    lgd = fig.legend(\n",
    "        handles,\n",
    "        labels,\n",
    "        loc=\"upper center\",\n",
    "        bbox_to_anchor=(0.5, 1.1),\n",
    "        ncol=num_optimizers,\n",
    "        frameon=False,\n",
    "    )\n",
    "    if path_savefig:\n",
    "        plt.savefig(path_savefig, bbox_inches=\"tight\", bbox_extra_artists=[lgd])\n",
    "    return fig"
   ]
  },
  {
   "cell_type": "code",
   "execution_count": 57,
   "metadata": {},
   "outputs": [
    {
     "data": {
      "text/plain": [
       "4"
      ]
     },
     "execution_count": 57,
     "metadata": {},
     "output_type": "execute_result"
    }
   ],
   "source": [
    "len(list_names_optimizer)"
   ]
  },
  {
   "cell_type": "code",
   "execution_count": 58,
   "metadata": {},
   "outputs": [
    {
     "ename": "ValueError",
     "evalue": "x and y must have same first dimension, but have shapes torch.Size([10]) and torch.Size([300])",
     "output_type": "error",
     "traceback": [
      "\u001b[0;31m---------------------------------------------------------------------------\u001b[0m",
      "\u001b[0;31mValueError\u001b[0m                                Traceback (most recent call last)",
      "Cell \u001b[0;32mIn[58], line 1\u001b[0m\n\u001b[0;32m----> 1\u001b[0m \u001b[43mplot_function_value_distances\u001b[49m\u001b[43m(\u001b[49m\u001b[43mf_max\u001b[49m\u001b[38;5;241;43m=\u001b[39;49m\u001b[43mf_max_dict_new\u001b[49m\u001b[43m,\u001b[49m\n\u001b[1;32m      2\u001b[0m \u001b[43m                              \u001b[49m\u001b[43mrewards_optimizers\u001b[49m\u001b[38;5;241;43m=\u001b[39;49m\u001b[43mlist_interpolated_rewards\u001b[49m\u001b[43m,\u001b[49m\n\u001b[1;32m      3\u001b[0m \u001b[43m                              \u001b[49m\u001b[43mnames_optimizers\u001b[49m\u001b[38;5;241;43m=\u001b[39;49m\u001b[43mlist_names_optimizer\u001b[49m\u001b[43m,\u001b[49m\n\u001b[1;32m      4\u001b[0m \u001b[43m                              \u001b[49m\u001b[43mrow_col\u001b[49m\u001b[38;5;241;43m=\u001b[39;49m\u001b[43m(\u001b[49m\u001b[38;5;241;43m1\u001b[39;49m\u001b[43m,\u001b[49m\u001b[43m \u001b[49m\u001b[38;5;241;43m3\u001b[39;49m\u001b[43m)\u001b[49m\u001b[43m,\u001b[49m\n\u001b[1;32m      5\u001b[0m \u001b[43m                              \u001b[49m\u001b[43mfigsize\u001b[49m\u001b[38;5;241;43m=\u001b[39;49m\u001b[43m(\u001b[49m\u001b[38;5;241;43m8\u001b[39;49m\u001b[43m,\u001b[49m\u001b[38;5;241;43m2.6\u001b[39;49m\u001b[43m)\u001b[49m\u001b[43m,\u001b[49m\n\u001b[1;32m      6\u001b[0m \u001b[43m                              \u001b[49m\u001b[43mpath_savefig\u001b[49m\u001b[38;5;241;43m=\u001b[39;49m\u001b[38;5;28;43;01mNone\u001b[39;49;00m\u001b[43m,\u001b[49m\u001b[38;5;66;43;03m#'../experiments/synthetic_experiments/100621/figures/fve_w_std.pdf',\u001b[39;49;00m\n\u001b[1;32m      7\u001b[0m \u001b[43m                              \u001b[49m\u001b[43mremove_dim_index\u001b[49m\u001b[38;5;241;43m=\u001b[39;49m\u001b[38;5;28;43;01mNone\u001b[39;49;00m\u001b[43m,\u001b[49m\u001b[43m \u001b[49m\n\u001b[1;32m      8\u001b[0m \u001b[43m                              \u001b[49m\u001b[43mshow_std\u001b[49m\u001b[38;5;241;43m=\u001b[39;49m\u001b[38;5;28;43;01mFalse\u001b[39;49;00m\u001b[43m)\u001b[49m\n",
      "Cell \u001b[0;32mIn[43], line 46\u001b[0m, in \u001b[0;36mplot_function_value_distances\u001b[0;34m(f_max, rewards_optimizers, names_optimizers, figsize, row_col, path_savefig, remove_dim_index, show_std)\u001b[0m\n\u001b[1;32m     44\u001b[0m mean \u001b[38;5;241m=\u001b[39m torch\u001b[38;5;241m.\u001b[39mmean(value_error_normalized, dim\u001b[38;5;241m=\u001b[39m\u001b[38;5;241m0\u001b[39m)\n\u001b[1;32m     45\u001b[0m std \u001b[38;5;241m=\u001b[39m torch\u001b[38;5;241m.\u001b[39mstd(value_error_normalized, dim\u001b[38;5;241m=\u001b[39m\u001b[38;5;241m0\u001b[39m)\n\u001b[0;32m---> 46\u001b[0m \u001b[43maxs\u001b[49m\u001b[43m[\u001b[49m\u001b[43mindex_dim\u001b[49m\u001b[43m]\u001b[49m\u001b[38;5;241;43m.\u001b[39;49m\u001b[43mplot\u001b[49m\u001b[43m(\u001b[49m\n\u001b[1;32m     47\u001b[0m \u001b[43m    \u001b[49m\u001b[43mtorch\u001b[49m\u001b[38;5;241;43m.\u001b[39;49m\u001b[43mlinspace\u001b[49m\u001b[43m(\u001b[49m\u001b[38;5;241;43m0\u001b[39;49m\u001b[43m,\u001b[49m\u001b[43m \u001b[49m\u001b[43mnum_objective_calls\u001b[49m\u001b[43m,\u001b[49m\u001b[43m \u001b[49m\u001b[43mnum_objective_calls\u001b[49m\u001b[43m)\u001b[49m\u001b[43m,\u001b[49m\n\u001b[1;32m     48\u001b[0m \u001b[43m    \u001b[49m\u001b[43mmean\u001b[49m\u001b[43m,\u001b[49m\n\u001b[1;32m     49\u001b[0m \u001b[43m    \u001b[49m\u001b[43mlabel\u001b[49m\u001b[38;5;241;43m=\u001b[39;49m\u001b[43mnames_optimizers\u001b[49m\u001b[43m[\u001b[49m\u001b[43mindex_optimizer\u001b[49m\u001b[43m]\u001b[49m\u001b[43m,\u001b[49m\n\u001b[1;32m     50\u001b[0m \u001b[43m    \u001b[49m\u001b[43mmarker\u001b[49m\u001b[38;5;241;43m=\u001b[39;49m\u001b[43mmarkers\u001b[49m\u001b[43m[\u001b[49m\u001b[43mindex_optimizer\u001b[49m\u001b[43m]\u001b[49m\u001b[43m,\u001b[49m\n\u001b[1;32m     51\u001b[0m \u001b[43m    \u001b[49m\u001b[43mlinestyle\u001b[49m\u001b[38;5;241;43m=\u001b[39;49m\u001b[38;5;124;43m\"\u001b[39;49m\u001b[38;5;124;43m-\u001b[39;49m\u001b[38;5;124;43m\"\u001b[39;49m\u001b[43m,\u001b[49m\n\u001b[1;32m     52\u001b[0m \u001b[43m    \u001b[49m\u001b[43mlinewidth\u001b[49m\u001b[38;5;241;43m=\u001b[39;49m\u001b[38;5;241;43m1.\u001b[39;49m\u001b[43m,\u001b[49m\n\u001b[1;32m     53\u001b[0m \u001b[43m    \u001b[49m\u001b[43mmarkersize\u001b[49m\u001b[38;5;241;43m=\u001b[39;49m\u001b[38;5;241;43m3\u001b[39;49m\u001b[43m,\u001b[49m\n\u001b[1;32m     54\u001b[0m \u001b[43m    \u001b[49m\u001b[43mmarkeredgewidth\u001b[49m\u001b[38;5;241;43m=\u001b[39;49m\u001b[38;5;241;43m0.6\u001b[39;49m\u001b[43m,\u001b[49m\n\u001b[1;32m     55\u001b[0m \u001b[43m    \u001b[49m\u001b[43mmarkevery\u001b[49m\u001b[38;5;241;43m=\u001b[39;49m\u001b[38;5;241;43m25\u001b[39;49m\u001b[43m,\u001b[49m\n\u001b[1;32m     56\u001b[0m \u001b[43m    \u001b[49m\u001b[43mfillstyle\u001b[49m\u001b[38;5;241;43m=\u001b[39;49m\u001b[38;5;124;43m\"\u001b[39;49m\u001b[38;5;124;43mnone\u001b[39;49m\u001b[38;5;124;43m\"\u001b[39;49m\u001b[43m,\u001b[49m\n\u001b[1;32m     57\u001b[0m \u001b[43m\u001b[49m\u001b[43m)\u001b[49m\n\u001b[1;32m     58\u001b[0m \u001b[38;5;28;01mif\u001b[39;00m show_std:\n\u001b[1;32m     59\u001b[0m     \u001b[38;5;66;03m#relative_error = 0.434 * std / mean\u001b[39;00m\n\u001b[1;32m     60\u001b[0m     axs[index_dim]\u001b[38;5;241m.\u001b[39mfill_between(\n\u001b[1;32m     61\u001b[0m         torch\u001b[38;5;241m.\u001b[39mlinspace(\u001b[38;5;241m0\u001b[39m, num_objective_calls, num_objective_calls),\n\u001b[1;32m     62\u001b[0m         mean \u001b[38;5;241m-\u001b[39m std,\n\u001b[1;32m     63\u001b[0m         mean \u001b[38;5;241m+\u001b[39m std,\n\u001b[1;32m     64\u001b[0m         alpha\u001b[38;5;241m=\u001b[39m\u001b[38;5;241m0.2\u001b[39m,\n\u001b[1;32m     65\u001b[0m     )\n",
      "File \u001b[0;32m~/miniconda3/envs/mpd-fresh/lib/python3.8/site-packages/matplotlib/axes/_axes.py:1743\u001b[0m, in \u001b[0;36mAxes.plot\u001b[0;34m(self, scalex, scaley, data, *args, **kwargs)\u001b[0m\n\u001b[1;32m   1512\u001b[0m \u001b[38;5;250m\u001b[39m\u001b[38;5;124;03m\"\"\"\u001b[39;00m\n\u001b[1;32m   1513\u001b[0m \u001b[38;5;124;03mPlot y versus x as lines and/or markers.\u001b[39;00m\n\u001b[1;32m   1514\u001b[0m \n\u001b[0;32m   (...)\u001b[0m\n\u001b[1;32m   1740\u001b[0m \u001b[38;5;124;03m(``'green'``) or hex strings (``'#008000'``).\u001b[39;00m\n\u001b[1;32m   1741\u001b[0m \u001b[38;5;124;03m\"\"\"\u001b[39;00m\n\u001b[1;32m   1742\u001b[0m kwargs \u001b[38;5;241m=\u001b[39m cbook\u001b[38;5;241m.\u001b[39mnormalize_kwargs(kwargs, mlines\u001b[38;5;241m.\u001b[39mLine2D)\n\u001b[0;32m-> 1743\u001b[0m lines \u001b[38;5;241m=\u001b[39m [\u001b[38;5;241m*\u001b[39m\u001b[38;5;28mself\u001b[39m\u001b[38;5;241m.\u001b[39m_get_lines(\u001b[38;5;241m*\u001b[39margs, data\u001b[38;5;241m=\u001b[39mdata, \u001b[38;5;241m*\u001b[39m\u001b[38;5;241m*\u001b[39mkwargs)]\n\u001b[1;32m   1744\u001b[0m \u001b[38;5;28;01mfor\u001b[39;00m line \u001b[38;5;129;01min\u001b[39;00m lines:\n\u001b[1;32m   1745\u001b[0m     \u001b[38;5;28mself\u001b[39m\u001b[38;5;241m.\u001b[39madd_line(line)\n",
      "File \u001b[0;32m~/miniconda3/envs/mpd-fresh/lib/python3.8/site-packages/matplotlib/axes/_base.py:273\u001b[0m, in \u001b[0;36m_process_plot_var_args.__call__\u001b[0;34m(self, data, *args, **kwargs)\u001b[0m\n\u001b[1;32m    271\u001b[0m     this \u001b[38;5;241m+\u001b[39m\u001b[38;5;241m=\u001b[39m args[\u001b[38;5;241m0\u001b[39m],\n\u001b[1;32m    272\u001b[0m     args \u001b[38;5;241m=\u001b[39m args[\u001b[38;5;241m1\u001b[39m:]\n\u001b[0;32m--> 273\u001b[0m \u001b[38;5;28;01myield from\u001b[39;00m \u001b[38;5;28;43mself\u001b[39;49m\u001b[38;5;241;43m.\u001b[39;49m\u001b[43m_plot_args\u001b[49m\u001b[43m(\u001b[49m\u001b[43mthis\u001b[49m\u001b[43m,\u001b[49m\u001b[43m \u001b[49m\u001b[43mkwargs\u001b[49m\u001b[43m)\u001b[49m\n",
      "File \u001b[0;32m~/miniconda3/envs/mpd-fresh/lib/python3.8/site-packages/matplotlib/axes/_base.py:399\u001b[0m, in \u001b[0;36m_process_plot_var_args._plot_args\u001b[0;34m(self, tup, kwargs)\u001b[0m\n\u001b[1;32m    396\u001b[0m     \u001b[38;5;28mself\u001b[39m\u001b[38;5;241m.\u001b[39maxes\u001b[38;5;241m.\u001b[39myaxis\u001b[38;5;241m.\u001b[39mupdate_units(y)\n\u001b[1;32m    398\u001b[0m \u001b[38;5;28;01mif\u001b[39;00m x\u001b[38;5;241m.\u001b[39mshape[\u001b[38;5;241m0\u001b[39m] \u001b[38;5;241m!=\u001b[39m y\u001b[38;5;241m.\u001b[39mshape[\u001b[38;5;241m0\u001b[39m]:\n\u001b[0;32m--> 399\u001b[0m     \u001b[38;5;28;01mraise\u001b[39;00m \u001b[38;5;167;01mValueError\u001b[39;00m(\u001b[38;5;124mf\u001b[39m\u001b[38;5;124m\"\u001b[39m\u001b[38;5;124mx and y must have same first dimension, but \u001b[39m\u001b[38;5;124m\"\u001b[39m\n\u001b[1;32m    400\u001b[0m                      \u001b[38;5;124mf\u001b[39m\u001b[38;5;124m\"\u001b[39m\u001b[38;5;124mhave shapes \u001b[39m\u001b[38;5;132;01m{\u001b[39;00mx\u001b[38;5;241m.\u001b[39mshape\u001b[38;5;132;01m}\u001b[39;00m\u001b[38;5;124m and \u001b[39m\u001b[38;5;132;01m{\u001b[39;00my\u001b[38;5;241m.\u001b[39mshape\u001b[38;5;132;01m}\u001b[39;00m\u001b[38;5;124m\"\u001b[39m)\n\u001b[1;32m    401\u001b[0m \u001b[38;5;28;01mif\u001b[39;00m x\u001b[38;5;241m.\u001b[39mndim \u001b[38;5;241m>\u001b[39m \u001b[38;5;241m2\u001b[39m \u001b[38;5;129;01mor\u001b[39;00m y\u001b[38;5;241m.\u001b[39mndim \u001b[38;5;241m>\u001b[39m \u001b[38;5;241m2\u001b[39m:\n\u001b[1;32m    402\u001b[0m     \u001b[38;5;28;01mraise\u001b[39;00m \u001b[38;5;167;01mValueError\u001b[39;00m(\u001b[38;5;124mf\u001b[39m\u001b[38;5;124m\"\u001b[39m\u001b[38;5;124mx and y can be no greater than 2-D, but have \u001b[39m\u001b[38;5;124m\"\u001b[39m\n\u001b[1;32m    403\u001b[0m                      \u001b[38;5;124mf\u001b[39m\u001b[38;5;124m\"\u001b[39m\u001b[38;5;124mshapes \u001b[39m\u001b[38;5;132;01m{\u001b[39;00mx\u001b[38;5;241m.\u001b[39mshape\u001b[38;5;132;01m}\u001b[39;00m\u001b[38;5;124m and \u001b[39m\u001b[38;5;132;01m{\u001b[39;00my\u001b[38;5;241m.\u001b[39mshape\u001b[38;5;132;01m}\u001b[39;00m\u001b[38;5;124m\"\u001b[39m)\n",
      "\u001b[0;31mValueError\u001b[0m: x and y must have same first dimension, but have shapes torch.Size([10]) and torch.Size([300])"
     ]
    },
    {
     "data": {
      "image/png": "[encoded data removed]",
      "text/plain": [
       "<Figure size 800x260 with 3 Axes>"
      ]
     },
     "metadata": {},
     "output_type": "display_data"
    }
   ],
   "source": [
    "plot_function_value_distances(f_max=f_max_dict_new,\n",
    "                              rewards_optimizers=list_interpolated_rewards,\n",
    "                              names_optimizers=list_names_optimizer,\n",
    "                              row_col=(1, 3),\n",
    "                              figsize=(8,2.6),\n",
    "                              path_savefig=None,#'../experiments/synthetic_experiments/100621/figures/fve_w_std.pdf',\n",
    "                              remove_dim_index=None, \n",
    "                              show_std=False)"
   ]
  },
  {
   "cell_type": "code",
   "execution_count": null,
   "metadata": {},
   "outputs": [],
   "source": [
    "\n",
    "def function_value_error_over_dimensions(\n",
    "    f_max: Dict[int, List[int]],\n",
    "    list_rewards_optimizers: List[Dict[int, List[list]]],\n",
    "    list_names_optimizers: List[Dict[int, List[list]]],\n",
    "    figsize: Tuple[Union[int, float]],\n",
    "    path_savefig: Optional[str] = None,\n",
    "    log_scale: bool = False,\n",
    "):\n",
    "    dimensions = list(f_max.keys())\n",
    "    num_objectives = len(f_max[dimensions[0]])\n",
    "    num_optimizers = len(list_rewards_optimizers)\n",
    "    fve = torch.empty(len(list_rewards_optimizers), len(dimensions), num_objectives)\n",
    "    f, axs = plt.subplots(1, num_optimizers, sharex=True, sharey=True, figsize=figsize)\n",
    "    axs = np.array(axs).reshape(1, num_optimizers)\n",
    "    for index_optimizer, rewards_optimizer in enumerate(list_rewards_optimizers):\n",
    "        for dim_index, dim in enumerate(dimensions):\n",
    "            global_max = torch.tensor(f_max[dim])\n",
    "            max_rewards = torch.max(rewards_optimizer[dim_index], axis=-1).values\n",
    "            value_error_normalized = (global_max - max_rewards) / global_max\n",
    "            fve[index_optimizer][dim_index] = value_error_normalized\n",
    "\n",
    "        medianprops = dict(linestyle='-', linewidth=0.8, color='black')\n",
    "        meanprops = dict(marker='o', markerfacecolor='green', markersize=2,markeredgecolor='none')\n",
    "        parts = axs[0, index_optimizer].boxplot(fve[index_optimizer], \n",
    "                                                positions=dimensions,\n",
    "                                                widths=2.5,\n",
    "                                                showfliers=False,\n",
    "                                                showmeans=True,\n",
    "                                                #meanline=True,\n",
    "                                                meanprops=meanprops,\n",
    "                                                medianprops=medianprops)\n",
    "        if log_scale:\n",
    "            axs[0, index_optimizer].set_yscale(\"log\")\n",
    "            axs[0, index_optimizer].set_ylim([3e-3, 5e-0])\n",
    "            axs[0, index_optimizer].set_yticks([1e-0, 1e-1, 1e-2])\n",
    "            axs[0, index_optimizer].yaxis.grid(True, which=\"minor\", linewidth=.4)\n",
    "        else:\n",
    "            axs[0, index_optimizer].set_ylim([-0.05,1.05])\n",
    "            axs[0, index_optimizer].set_yticks([0., 0.25, 0.5, 0.75, 1.])\n",
    "        plt.xticks(dimensions[::2], dimensions[::2])\n",
    "        #plt.xticks(dimensions, dimensions)\n",
    "        \n",
    "        axs[0, index_optimizer].set_xlabel(\"dimensions\", labelpad=10)\n",
    "        axs[0, index_optimizer].set_title(\n",
    "            list_names_optimizers[index_optimizer], fontsize=10\n",
    "        )\n",
    "\n",
    "    axs[0, 0].set_ylabel(r\"$\\frac{f^* - \\widehat{f^*}}{f^*}$\")\n",
    "    if path_savefig:\n",
    "        plt.savefig(path_savefig, bbox_inches=\"tight\")\n",
    "    return fve, f"
   ]
  },
  {
   "cell_type": "code",
   "execution_count": 16,
   "metadata": {},
   "outputs": [],
   "source": [
    "plt.style.use('seaborn-whitegrid')\n",
    "tex_fonts = {\n",
    "    # Use LaTeX to write all text\n",
    "    # \"text.usetex\": True,\n",
    "    \"font.family\": \"serif\",\n",
    "    # Use 10pt font in plots, to match 10pt font in document\n",
    "    \"axes.labelsize\": 11,\n",
    "    \"font.size\": 11,\n",
    "    # Make the legend/label fonts a little smaller\n",
    "    \"legend.fontsize\": 9,\n",
    "    \"xtick.labelsize\": 9,\n",
    "    \"ytick.labelsize\": 9\n",
    "}\n",
    "\n",
    "plt.rcParams.update(tex_fonts)"
   ]
  },
  {
   "cell_type": "code",
   "execution_count": 17,
   "metadata": {},
   "outputs": [
    {
     "data": {
      "text/plain": [
       "['MPD']"
      ]
     },
     "execution_count": 17,
     "metadata": {},
     "output_type": "execute_result"
    }
   ],
   "source": [
    "list_names_optimizer"
   ]
  },
  {
   "cell_type": "code",
   "execution_count": 30,
   "metadata": {},
   "outputs": [
    {
     "data": {
      "text/plain": [
       "tensor([[-0.4110, -0.4110, -0.4110, -0.4110,  0.1097,  0.1097,  0.1097,  0.1097,\n",
       "          0.3822,  0.3822,  0.3822,  0.3822,  0.3822,  0.3822,  0.3822],\n",
       "        [ 1.0186,  1.0186,  1.0186,  1.0186,  1.0186,  1.0186,  1.0186,  1.0186,\n",
       "          1.1373,  1.1373,  1.1373,  1.1373,  1.1552,  1.1552,  1.1552],\n",
       "        [ 1.0625,  1.0625,  1.0625,  1.0625,  1.1711,  1.1711,  1.1711,  1.1711,\n",
       "          1.1711,  1.1711,  1.1711,  1.1711,  1.2759,  1.2759,  1.2759],\n",
       "        [ 0.0428,  0.0428,  0.0428,  0.0428,  0.5920,  0.5920,  0.5920,  0.5920,\n",
       "          0.6420,  0.6420,  0.6420,  0.6420,  0.7659,  0.7659,  0.7659],\n",
       "        [ 0.0327,  0.0327,  0.0327,  0.0327,  0.9751,  0.9751,  0.9751,  0.9751,\n",
       "          0.9751,  0.9751,  0.9751,  0.9751,  1.1174,  1.1174,  1.1174]])"
      ]
     },
     "execution_count": 30,
     "metadata": {},
     "output_type": "execute_result"
    }
   ],
   "source": [
    "list_interpolated_rewards[0][0]"
   ]
  },
  {
   "cell_type": "code",
   "execution_count": 20,
   "metadata": {},
   "outputs": [
    {
     "ename": "NameError",
     "evalue": "name 'f_max_dict_new_optim' is not defined",
     "output_type": "error",
     "traceback": [
      "\u001b[0;31m---------------------------------------------------------------------------\u001b[0m",
      "\u001b[0;31mNameError\u001b[0m                                 Traceback (most recent call last)",
      "Cell \u001b[0;32mIn[20], line 1\u001b[0m\n\u001b[0;32m----> 1\u001b[0m plot_function_value_distances(f_max\u001b[38;5;241m=\u001b[39m\u001b[43mf_max_dict_new_optim\u001b[49m,\n\u001b[1;32m      2\u001b[0m                               rewards_optimizers\u001b[38;5;241m=\u001b[39mlist_interpolated_rewards_optim,\n\u001b[1;32m      3\u001b[0m                               names_optimizers\u001b[38;5;241m=\u001b[39mlist_names_optimizer_optim,\n\u001b[1;32m      4\u001b[0m                               row_col\u001b[38;5;241m=\u001b[39m(\u001b[38;5;241m1\u001b[39m, \u001b[38;5;241m2\u001b[39m),\n\u001b[1;32m      5\u001b[0m                               figsize\u001b[38;5;241m=\u001b[39m(\u001b[38;5;241m8\u001b[39m,\u001b[38;5;241m2.6\u001b[39m),\n\u001b[1;32m      6\u001b[0m                               path_savefig\u001b[38;5;241m=\u001b[39m\u001b[38;5;28;01mFalse\u001b[39;00m, \u001b[38;5;66;03m#'../experiments/synthetic_experiments/100621/figures/fve_optimize_w_std.pdf',\u001b[39;00m\n\u001b[1;32m      7\u001b[0m                               remove_dim_index\u001b[38;5;241m=\u001b[39m[\u001b[38;5;241m2\u001b[39m],\n\u001b[1;32m      8\u001b[0m                               show_std\u001b[38;5;241m=\u001b[39m\u001b[38;5;28;01mFalse\u001b[39;00m)\n",
      "\u001b[0;31mNameError\u001b[0m: name 'f_max_dict_new_optim' is not defined"
     ]
    }
   ],
   "source": [
    "plot_function_value_distances(f_max=f_max_dict_new_optim,\n",
    "                              rewards_optimizers=list_interpolated_rewards_optim,\n",
    "                              names_optimizers=list_names_optimizer_optim,\n",
    "                              row_col=(1, 2),\n",
    "                              figsize=(8,2.6),\n",
    "                              path_savefig=False, #'../experiments/synthetic_experiments/100621/figures/fve_optimize_w_std.pdf',\n",
    "                              remove_dim_index=[2],\n",
    "                              show_std=False);"
   ]
  },
  {
   "cell_type": "code",
   "execution_count": 9,
   "metadata": {},
   "outputs": [],
   "source": [
    "plt.style.use('seaborn-whitegrid')\n",
    "tex_fonts = {\n",
    "    # Use LaTeX to write all text\n",
    "    \"text.usetex\": True,\n",
    "    \"font.family\": \"serif\",\n",
    "    # Use 10pt font in plots, to match 10pt font in document\n",
    "    \"axes.labelsize\": 11,\n",
    "    \"font.size\": 11,\n",
    "    # Make the legend/label fonts a little smaller\n",
    "    \"legend.fontsize\": 8,\n",
    "    \"xtick.labelsize\": 8.5,\n",
    "    \"ytick.labelsize\": 8.5}\n",
    "\n",
    "plt.rcParams.update(tex_fonts)"
   ]
  },
  {
   "cell_type": "code",
   "execution_count": 10,
   "metadata": {},
   "outputs": [
    {
     "data": {
      "image/png": "[encoded data removed]",
      "text/plain": [
       "<Figure size 446.4x108 with 4 Axes>"
      ]
     },
     "metadata": {},
     "output_type": "display_data"
    }
   ],
   "source": [
    "plt.rcParams['lines.linewidth'] = 1.\n",
    "fve = function_value_error_over_dimensions(f_max=f_max_dict_new,\n",
    "                                           list_rewards_optimizers=list_interpolated_rewards,\n",
    "                                           list_names_optimizers=list_names_optimizer,\n",
    "                                           figsize=(6.2,1.5),\n",
    "                                           path_savefig=None #'../experiments/synthetic_experiments/100621/figures/boxplots.pdf'\n",
    "                                          )"
   ]
  },
  {
   "cell_type": "code",
   "execution_count": 11,
   "metadata": {},
   "outputs": [
    {
     "data": {
      "image/png": "[encoded data removed]",
      "text/plain": [
       "<Figure size 446.4x108 with 4 Axes>"
      ]
     },
     "metadata": {},
     "output_type": "display_data"
    }
   ],
   "source": [
    "plt.rcParams['lines.linewidth'] = 1.\n",
    "fve = function_value_error_over_dimensions(f_max=f_max_dict_new_optim,\n",
    "                                           list_rewards_optimizers=list_interpolated_rewards_optim,\n",
    "                                           list_names_optimizers=list_names_optimizer_optim,\n",
    "                                           figsize=(6.2,1.5),\n",
    "                                           path_savefig=None #'../experiments/synthetic_experiments/100621/figures/boxplots_optimize.pdf'\n",
    "                                          )"
   ]
  }
 ],
 "metadata": {
  "kernelspec": {
   "display_name": "mpd-fresh",
   "language": "python",
   "name": "python3"
  },
  "language_info": {
   "codemirror_mode": {
    "name": "ipython",
    "version": 3
   },
   "file_extension": ".py",
   "mimetype": "text/x-python",
   "name": "python",
   "nbconvert_exporter": "python",
   "pygments_lexer": "ipython3",
   "version": "3.8.5"
  }
 },
 "nbformat": 4,
 "nbformat_minor": 4
}
